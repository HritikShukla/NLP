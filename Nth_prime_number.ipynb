{
  "nbformat": 4,
  "nbformat_minor": 0,
  "metadata": {
    "colab": {
      "name": "Nth prime number.ipynb",
      "provenance": [],
      "include_colab_link": true
    },
    "kernelspec": {
      "name": "python3",
      "display_name": "Python 3"
    }
  },
  "cells": [
    {
      "cell_type": "markdown",
      "metadata": {
        "id": "view-in-github",
        "colab_type": "text"
      },
      "source": [
        "<a href=\"https://colab.research.google.com/github/HritikShukla/NLP/blob/master/Nth_prime_number.ipynb\" target=\"_parent\"><img src=\"https://colab.research.google.com/assets/colab-badge.svg\" alt=\"Open In Colab\"/></a>"
      ]
    },
    {
      "cell_type": "code",
      "metadata": {
        "id": "cOytFKPZLP7W",
        "colab_type": "code",
        "colab": {}
      },
      "source": [
        "def prime(n):#function to check prime number\n",
        "      flag = 0\n",
        "      for x in range(2,int(n**1/2)+1):\n",
        "          if n % x == 0:\n",
        "              flag = 1\n",
        "              break\n",
        "      if flag == 1:\n",
        "          return False\n",
        "      else:\n",
        "          return True#returns true if number is prime"
      ],
      "execution_count": 0,
      "outputs": []
    },
    {
      "cell_type": "code",
      "metadata": {
        "id": "ZBmIlOM0LSf6",
        "colab_type": "code",
        "outputId": "4742b1e2-1164-49de-a34d-38efee8a4e13",
        "colab": {
          "base_uri": "https://localhost:8080/",
          "height": 50
        }
      },
      "source": [
        "n = int(input(\"Enter a number:\"))\n",
        "i = 2\n",
        "count = 0\n",
        "while True:\n",
        "    if prime(i) == True:\n",
        "      count += 1\n",
        "    if count == n:#calculates prime numbers till the value of n \n",
        "      \n",
        "      print(i)#prints the Nth prime no\n",
        "      break\n",
        "    i += 1\n"
      ],
      "execution_count": 3,
      "outputs": [
        {
          "output_type": "stream",
          "text": [
            "Enter a number:3\n",
            "5\n"
          ],
          "name": "stdout"
        }
      ]
    }
  ]
}